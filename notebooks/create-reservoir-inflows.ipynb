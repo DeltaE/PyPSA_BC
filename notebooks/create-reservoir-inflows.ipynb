{
 "cells": [
  {
   "cell_type": "code",
   "execution_count": null,
   "metadata": {},
   "outputs": [],
   "source": [
    "import atlite\n",
    "from bc_power import utils,hydro\n",
    "import geopandas as gpd\n",
    "import pandas as pd\n",
    "import matplotlib.pyplot as plt\n",
    "import os"
   ]
  },
  {
   "attachments": {},
   "cell_type": "markdown",
   "metadata": {},
   "source": [
    "### Cascaded basins inflows\n"
   ]
  },
  {
   "cell_type": "code",
   "execution_count": null,
   "metadata": {},
   "outputs": [],
   "source": [
    "# # (0) create folder\n",
    "# folder = r\"/mnt/c/Users/pmcw9/Delta-E/PICS/PyPSA_BC/results/reservoir_inflows\" #reservoir_inflows \n",
    "# utils.create_folder(folder)"
   ]
  },
  {
   "cell_type": "code",
   "execution_count": null,
   "metadata": {},
   "outputs": [],
   "source": [
    "reservoir_sites.index.tolist()"
   ]
  },
  {
   "cell_type": "code",
   "execution_count": null,
   "metadata": {},
   "outputs": [],
   "source": [
    "# (i) get configuration\n",
    "config_file = r\"/mnt/c/Users/pmcw9/Delta-E/PICS/PyPSA_BC/config/config.yaml\"\n",
    "cfg = utils.load_config(config_file)\n",
    "\n",
    "# (i) read basin and site data\n",
    "# Basins NA and artica\n",
    "na_basin_data = hydro.load_hydro_basins(cfg[\"basin_files\"][\"na_file\"])\n",
    "ar_basin_data = hydro.load_hydro_basins(cfg[\"basin_files\"][\"artic_file\"])\n",
    "basin_data = gpd.GeoDataFrame(pd.concat([na_basin_data, ar_basin_data]))\n",
    "cutout = atlite.Cutout(path=cfg[\"cutout\"][\"file\"])\n",
    "\n",
    "# Sites/plants which need inflow data.\n",
    "reservoir_sites = hydro.load_reservoir_sites(cfg[\"reservoir_inflows\"][\"reservoir_assets\"])\n",
    "\n",
    "# # (ii) Calculated the inflows for each site\n",
    "# # unmodified\n",
    "# basins = hydro.prepare_basins(reservoir_sites, basin_data)\n",
    "\n",
    "# basin_inflows = hydro.calculate_basin_inflows(basins, cutout,\n",
    "#                                                height=bool(cfg['reservoir_inflows']['height']))\n",
    "\n",
    "# basin_inflows_unmodified = hydro.calculate_basin_inflows(basins, cutout,\n",
    "#                                                height=bool(cfg['reservoir_inflows']['height']))\n",
    "\n",
    "# site_inflows_unmodified = hydro.calculate_plant_inflows(basin_inflows, basins,\n",
    "#                                               flowspeed=cfg['reservoir_inflows']['flowspeed'])\n",
    "\n",
    "# modified\n",
    "basins_modified = hydro.prepare_cascade_basins(reservoir_sites, basin_data, cfg[\"reservoir_inflows\"][\"hydro_assets\"])\n",
    "\n",
    "basin_inflows_modified = hydro.calculate_basin_inflows(basins_modified, cutout,\n",
    "                                               height=bool(cfg['reservoir_inflows']['height']))\n",
    "\n",
    "site_inflows_modified = hydro.calculate_plant_inflows(basin_inflows_modified, basins_modified,\n",
    "                                              flowspeed=cfg['reservoir_inflows']['flowspeed'])\n"
   ]
  },
  {
   "cell_type": "code",
   "execution_count": null,
   "metadata": {},
   "outputs": [],
   "source": [
    "site_inflows = site_inflows_modified"
   ]
  },
  {
   "attachments": {},
   "cell_type": "markdown",
   "metadata": {},
   "source": [
    "### Normalize inflows by monthly measures"
   ]
  },
  {
   "cell_type": "code",
   "execution_count": null,
   "metadata": {},
   "outputs": [],
   "source": [
    "def mean_inflow_normalize(site_inflows, fpath):\n",
    "    '''\n",
    "    This function is designed to take in a unnormalized inflow series and normalize it.\n",
    "    The normalize is done for each month based on the mean monthly inflow in (cms) \n",
    "    fpath: Path to location of the inflow tables with statistics of historical inflows\n",
    "           for BC reservoirs.\n",
    "    '''\n",
    "    # loop over reservoirs to normalize\\\n",
    "    # Final flow is in flow per hour\n",
    "    \n",
    "    month_2_num = {\"January\":1, \"February\":2, \"March\":3, \"April\":4, \"May\":5,\n",
    "                    \"June\":6, \"July\":7, \"August\":8, \"September\":9,\n",
    "                    \"October\":10, \"November\":11, \"December\":12}\n",
    "    site_inflows_final = pd.DataFrame(index=pd.to_datetime([]))\n",
    "    for rid in site_inflows.columns:\n",
    "        read_path = fpath + f\"/{rid}\" + \".csv\"\n",
    "        if os.path.exists(read_path):\n",
    "            df_inflow_stats = pd.read_csv(read_path)\n",
    "        else:\n",
    "            # Here is where imputation of zero can occur if \n",
    "            print(f'There are no flow statistics for {rid}')\n",
    "            continue\n",
    "        print('----------- START -------------')\n",
    "        temp_series = pd.Series(dtype='float64')\n",
    "        # loop over df_inflow_stats for this particular reservoir (month by month)\n",
    "        for idx,row in df_inflow_stats.iterrows():\n",
    "            month = row['Month'] # from row\n",
    "            q_mean = row['Mean Monthly Inflow'] # from row\n",
    "\n",
    "            # calculations\n",
    "            mask = (site_inflows[rid].index.month == month_2_num[month]) \n",
    "            num_hours = site_inflows[rid].loc[mask].shape[0]\n",
    "            const = site_inflows[rid].loc[mask].sum() / (3600*num_hours*q_mean)\n",
    "            print(f\"Reservoir: {rid} Month:{month} constant:{const}\")\n",
    "            # store to series,\n",
    "            temp_series = pd.concat([temp_series, site_inflows[rid].loc[mask] / const])\n",
    "        print('----------- END -------------')\n",
    "        site_inflows_final[rid] = temp_series.sort_index()\n",
    "\n",
    "    return site_inflows_final\n",
    "    \n",
    "\n",
    "def mean_inflow_constant(site_inflows, fpath):\n",
    "    '''\n",
    "    This function is designed to return a constant monthly inflow equal to\n",
    "    that reservoirs historical mean inflow for each month.\n",
    "    '''\n",
    "    month_2_num = {\"January\":1, \"February\":2, \"March\":3, \"April\":4, \"May\":5,\n",
    "                \"June\":6, \"July\":7, \"August\":8, \"September\":9,\n",
    "                \"October\":10, \"November\":11, \"December\":12}\n",
    "    site_inflows_final = pd.DataFrame(index=pd.to_datetime([]))\n",
    "\n",
    "    for rid in site_inflows.columns:\n",
    "        read_path = fpath + f\"/{rid}\" + \".csv\"\n",
    "        if os.path.exists(read_path):\n",
    "            df_inflow_stats = pd.read_csv(read_path)\n",
    "        else:\n",
    "            print(f'There are no flow statistics for {rid}')\n",
    "            continue\n",
    "        temp_series = pd.Series(dtype='float64')\n",
    "        # loop over df_inflow_stats for this particular reservoir (month by month)\n",
    "        for idx,row in df_inflow_stats.iterrows():\n",
    "            month = row['Month'] # from row\n",
    "            q_mean = row['Mean Monthly Inflow'] # from row\n",
    "            # calculations\n",
    "            mask = (site_inflows[rid].index.month == month_2_num[month]) \n",
    "            temp_series = pd.concat([temp_series, site_inflows[rid].loc[mask].apply(lambda x: q_mean*3600)])\n",
    "\n",
    "        site_inflows_final[rid] = temp_series.sort_index()\n",
    "\n",
    "    return site_inflows_final\n"
   ]
  },
  {
   "cell_type": "code",
   "execution_count": null,
   "metadata": {},
   "outputs": [],
   "source": [
    "# read in inflow tables\n",
    "fpath = cfg['bc_hydro']['inflow_tables']\n",
    "# final_inflows = mean_inflow_normalize(site_inflows, fpath)\n",
    "final_inflows_const = mean_inflow_constant(site_inflows, fpath)\n",
    "\n",
    "\n",
    "gen_sites = hydro.load_hydro_sites(cfg[\"reservoir_inflows\"][\"hydro_assets\"])\n",
    "\n",
    "# (1) Inflows for head upstream reservoirs in a cascade w/o WUP stats that are hydro_daily/run (nothing upstream of their upstream reservoir)\n",
    "# These will be used\n",
    "# preface: Already know no WUP stats + in a cascade + they are a head reservoir. Therefore, can target directly.\n",
    "rid_list = [\"BC_WHN_RES\"]\n",
    "inflow = pd.DataFrame(index=final_inflows_const.index) # This will be df of all RoR Inflows\n",
    "for rid in rid_list:\n",
    "    # Call RoR method and add this to it\n",
    "    inflow_series[rid]\n",
    "\n",
    "# (2) Inflows for downstream reservoirs in a cascade w/o WUP stats that are hydro_daily/run\n",
    "# Will have an inflow time series of 0s \n",
    "# preface: Already know no WUP stats + in a cascade + they are not a head reservoir. Therefore, can target directly\n",
    "rid_list = [\"BC_PCN_RES\",\"BC_STC_RES\",\"BC_SFL_RES\",\"BC_RUS_RES\",\"BC_JHT_RES\",\"BC_WAN_RES\"]\n",
    "for rid in rid_list:\n",
    "    final_inflows_const[rid] = pd.Series([0]*final_inflows_const.shape[0],\n",
    "                                dtype='float64', index=final_inflows_const.index)\n"
   ]
  },
  {
   "cell_type": "code",
   "execution_count": null,
   "metadata": {},
   "outputs": [],
   "source": [
    "gen_sites['upper_reservoir_id']"
   ]
  },
  {
   "cell_type": "code",
   "execution_count": null,
   "metadata": {},
   "outputs": [],
   "source": [
    "rid_list = reservoir_sites.index.tolist()\n",
    "mask = gen_sites['upper_reservoir_id'].apply(lambda x: x in rid_list)\n"
   ]
  },
  {
   "cell_type": "code",
   "execution_count": null,
   "metadata": {},
   "outputs": [],
   "source": [
    "gen_sites[mask]"
   ]
  },
  {
   "cell_type": "code",
   "execution_count": null,
   "metadata": {},
   "outputs": [],
   "source": [
    "gen_sites.columns"
   ]
  },
  {
   "cell_type": "code",
   "execution_count": null,
   "metadata": {},
   "outputs": [],
   "source": [
    "# check for WUp data\n",
    "# rid = upper_reservoir_id\n",
    "# (gen_sites['lower_reservoir_id'] == 'BC_MCA_RES').any()"
   ]
  },
  {
   "cell_type": "code",
   "execution_count": null,
   "metadata": {},
   "outputs": [],
   "source": [
    "site_inflows.head(1)"
   ]
  },
  {
   "cell_type": "code",
   "execution_count": null,
   "metadata": {},
   "outputs": [],
   "source": []
  }
 ],
 "metadata": {
  "kernelspec": {
   "display_name": "bc-power",
   "language": "python",
   "name": "python3"
  },
  "language_info": {
   "codemirror_mode": {
    "name": "ipython",
    "version": 3
   },
   "file_extension": ".py",
   "mimetype": "text/x-python",
   "name": "python",
   "nbconvert_exporter": "python",
   "pygments_lexer": "ipython3",
   "version": "3.10.4"
  },
  "orig_nbformat": 4
 },
 "nbformat": 4,
 "nbformat_minor": 2
}
