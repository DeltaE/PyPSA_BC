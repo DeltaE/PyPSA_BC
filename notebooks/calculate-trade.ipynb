{
 "cells": [
  {
   "cell_type": "code",
   "execution_count": 2,
   "metadata": {},
   "outputs": [],
   "source": [
    "import pandas as pd\n",
    "from bc_power import utils"
   ]
  },
  {
   "cell_type": "code",
   "execution_count": 39,
   "metadata": {},
   "outputs": [],
   "source": [
    "# Need to identify buses for attaching load to \n",
    "config_file = r\"/home/pmcwhannel/repos/PyPSA_BC/config/config.yaml\"\n",
    "cfg = utils.load_config(config_file)\n",
    "year = cfg['trade']['year']\n",
    "temp = pd.read_excel(cfg['trade']['path'],skiprows=1)\n",
    "temp = temp[[\"US Tielines\", \"AB Tielines\"]]\n",
    "temp['TIME'] = pd.date_range(start=str(year)+'-01-01 00:00:00', end=str(year)+'-12-31 23:00:00', freq='h')\n",
    "trade = temp.copy()\n",
    "trade = trade.set_index('TIME')\n",
    "trade = trade.rename(columns={'US Tielines': 'US Trade', 'AB Tielines': 'AB Trade'})\n",
    "\n",
    "# trade = pd.to_numeric(temp[[\"US Tielines\", \"AB Tielines\"]]) #Rightmost column in BC Hydro hourly load spreadsheet, to_numeric converts the labels into NaN\n",
    "# # trade = fixed.reset_index().drop(columns=['index'])\n",
    "# trade['TIME'] = pd.date_range(start=str(year)+'-01-01 00:00:00', end=str(year)+'-12-31 23:00:00', freq='h')\n",
    "# # "
   ]
  },
  {
   "cell_type": "code",
   "execution_count": 40,
   "metadata": {},
   "outputs": [
    {
     "data": {
      "text/plain": [
       "Index(['US Trade', 'AB Trade'], dtype='object')"
      ]
     },
     "execution_count": 40,
     "metadata": {},
     "output_type": "execute_result"
    }
   ],
   "source": [
    "trade.columns"
   ]
  },
  {
   "cell_type": "code",
   "execution_count": null,
   "metadata": {},
   "outputs": [],
   "source": []
  }
 ],
 "metadata": {
  "kernelspec": {
   "display_name": "bc-power",
   "language": "python",
   "name": "python3"
  },
  "language_info": {
   "codemirror_mode": {
    "name": "ipython",
    "version": 3
   },
   "file_extension": ".py",
   "mimetype": "text/x-python",
   "name": "python",
   "nbconvert_exporter": "python",
   "pygments_lexer": "ipython3",
   "version": "3.9.16"
  },
  "orig_nbformat": 4
 },
 "nbformat": 4,
 "nbformat_minor": 2
}
