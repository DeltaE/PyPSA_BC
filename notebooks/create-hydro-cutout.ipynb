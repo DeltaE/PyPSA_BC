{
 "cells": [
  {
   "cell_type": "code",
   "execution_count": 1,
   "metadata": {},
   "outputs": [],
   "source": [
    "from bc_power import hydro\n",
    "from bc_power import utils\n",
    "import yaml\n",
    "import atlite\n",
    "import geopandas as gpd\n",
    "import pandas as pd\n",
    "from collections import namedtuple"
   ]
  },
  {
   "cell_type": "code",
   "execution_count": 3,
   "metadata": {},
   "outputs": [],
   "source": [
    "# Script: create_hydro_cutout.py\n",
    "# Description: main script for creating the hydro cutout based on hydro site locations and the basins they are located within\n",
    "# and each basins upstream basins.\n",
    "\n",
    "# Configuration inputs:\n",
    "config_file = r\"/mnt/c/Users/pmcw9/Delta-E/PICS/PyPSA_BC/config/config.yaml\"\n",
    "\n",
    "# main():\n",
    "# (i) read needed data\n",
    "cfg = utils.load_config(config_file)\n",
    "na_basin_data = hydro.load_hydro_basins(cfg[\"basin_files\"][\"na_file\"])\n",
    "ar_basin_data = hydro.load_hydro_basins(cfg[\"basin_files\"][\"artic_file\"])\n",
    "basin_data = gpd.GeoDataFrame(pd.concat([na_basin_data, ar_basin_data]))\n",
    "hydro_sites = hydro.load_hydro_sites(cfg[\"generation\"][\"hydro_assets\"]) # (NEEDS TO BE ADDED)\n",
    "# hydro_sites = gpd.GeoDataFrame([['Mica', -118.565260, 52.078632, 2971],\n",
    "#                             ['Revelstoke', -118.192934, 51.050299, 2500]],\n",
    "#                          columns=['name', 'lon', 'lat', 'capacity']\n",
    "#                          ).set_index('name')\n",
    "\n",
    "dx,dy = cfg[\"cutout\"][\"dx\"], cfg[\"cutout\"]['dy']\n",
    "time_horizon = slice(cfg[\"snapshots\"]['start'][0],\n",
    "                     cfg[\"snapshots\"]['end'][0])\n",
    "# (ii) call function to determine the bounds of the basins\n",
    "bounds = hydro.get_hydro_cutout_bounds(hydro_sites, basin_data)\n",
    "\n",
    "# (iii) Create the cutout based on bounds found from above\n",
    "features = ['height','runoff']\n",
    "hydro.create_cutout(cfg['cutout']['file'], bounds, dx, dy, time_horizon, features)"
   ]
  }
 ],
 "metadata": {
  "kernelspec": {
   "display_name": "bc-power",
   "language": "python",
   "name": "python3"
  },
  "language_info": {
   "codemirror_mode": {
    "name": "ipython",
    "version": 3
   },
   "file_extension": ".py",
   "mimetype": "text/x-python",
   "name": "python",
   "nbconvert_exporter": "python",
   "pygments_lexer": "ipython3",
   "version": "3.10.4"
  },
  "orig_nbformat": 4,
  "vscode": {
   "interpreter": {
    "hash": "723a4b3183c6d0e7584bbc3f901501adbc978a76a6ba01ecb9d61633ac7850fe"
   }
  }
 },
 "nbformat": 4,
 "nbformat_minor": 2
}
