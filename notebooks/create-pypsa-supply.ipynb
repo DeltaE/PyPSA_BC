{
 "cells": [
  {
   "cell_type": "code",
   "execution_count": 1,
   "metadata": {},
   "outputs": [],
   "source": [
    "import pandas as pd\n",
    "import math"
   ]
  },
  {
   "cell_type": "markdown",
   "metadata": {},
   "source": [
    "### Functions"
   ]
  },
  {
   "cell_type": "code",
   "execution_count": null,
   "metadata": {},
   "outputs": [],
   "source": []
  },
  {
   "cell_type": "markdown",
   "metadata": {},
   "source": [
    "### Calls"
   ]
  },
  {
   "cell_type": "code",
   "execution_count": 11,
   "metadata": {},
   "outputs": [],
   "source": [
    "# load data\n",
    "supply_path = r\"C:\\Users\\pmcw9\\Delta-E\\PICS\\Data\\SESIT\\CODERS\\data-pull\\supply\"\n",
    "generators = supply_path + \"\\generators.csv\"\n",
    "\n",
    "df_gens = pd.read_csv(generators)\n",
    "\n",
    "df_gens_bc = df_gens[df_gens['province'] == 'BC'].copy()"
   ]
  },
  {
   "cell_type": "code",
   "execution_count": 12,
   "metadata": {},
   "outputs": [
    {
     "data": {
      "text/plain": [
       "Index(['gen_node_code', 'project_name', 'owner', 'province', 'location',\n",
       "       'latitude', 'longitude', 'copper_balancing_area', 'operating_region',\n",
       "       'connecting_node_code', 'connecting_voltage_in_kv', 'start_year',\n",
       "       'previous_renewal_year', 'possible_renewal_year', 'closure_year',\n",
       "       'gen_type', 'gen_type_copper', 'install_capacity_in_mw',\n",
       "       'capacity_adjustment_in_%', 'effective_capacity_in_mw',\n",
       "       'capacity_factor_in_%', 'annual_avg_energy_unit_in_gwh/y',\n",
       "       'num_of_units_represented', 'total_num_of_units', 'sources', 'notes'],\n",
       "      dtype='object')"
      ]
     },
     "execution_count": 12,
     "metadata": {},
     "output_type": "execute_result"
    }
   ],
   "source": [
    "df_gens_bc.columns"
   ]
  },
  {
   "cell_type": "code",
   "execution_count": 21,
   "metadata": {},
   "outputs": [
    {
     "data": {
      "text/plain": [
       "array(['Hydro_daily', 'Hydro_run', 'Wind_Onshore', 'Biomass', 'Biogas',\n",
       "       'NG_CC', 'Hydro_monthly', 'NG_CG', 'NG_CT', 'Solar_PV'],\n",
       "      dtype=object)"
      ]
     },
     "execution_count": 21,
     "metadata": {},
     "output_type": "execute_result"
    }
   ],
   "source": [
    "df_gens_bc['gen_type'].unique()"
   ]
  },
  {
   "cell_type": "code",
   "execution_count": 33,
   "metadata": {},
   "outputs": [
    {
     "data": {
      "text/plain": [
       "24"
      ]
     },
     "execution_count": 33,
     "metadata": {},
     "output_type": "execute_result"
    }
   ],
   "source": [
    "df_gens_bc[df_gens_bc['gen_type'] == 'Biogas']['install_capacity_in_mw'].sum()"
   ]
  },
  {
   "cell_type": "code",
   "execution_count": 14,
   "metadata": {},
   "outputs": [
    {
     "data": {
      "text/html": [
       "<div>\n",
       "<style scoped>\n",
       "    .dataframe tbody tr th:only-of-type {\n",
       "        vertical-align: middle;\n",
       "    }\n",
       "\n",
       "    .dataframe tbody tr th {\n",
       "        vertical-align: top;\n",
       "    }\n",
       "\n",
       "    .dataframe thead th {\n",
       "        text-align: right;\n",
       "    }\n",
       "</style>\n",
       "<table border=\"1\" class=\"dataframe\">\n",
       "  <thead>\n",
       "    <tr style=\"text-align: right;\">\n",
       "      <th></th>\n",
       "      <th>effective_capacity_in_mw</th>\n",
       "      <th>gen_type</th>\n",
       "    </tr>\n",
       "  </thead>\n",
       "  <tbody>\n",
       "    <tr>\n",
       "      <th>243</th>\n",
       "      <td>8</td>\n",
       "      <td>Hydro_daily</td>\n",
       "    </tr>\n",
       "    <tr>\n",
       "      <th>244</th>\n",
       "      <td>8</td>\n",
       "      <td>Hydro_daily</td>\n",
       "    </tr>\n",
       "    <tr>\n",
       "      <th>245</th>\n",
       "      <td>8</td>\n",
       "      <td>Hydro_daily</td>\n",
       "    </tr>\n",
       "    <tr>\n",
       "      <th>246</th>\n",
       "      <td>93</td>\n",
       "      <td>Hydro_daily</td>\n",
       "    </tr>\n",
       "    <tr>\n",
       "      <th>247</th>\n",
       "      <td>93</td>\n",
       "      <td>Hydro_daily</td>\n",
       "    </tr>\n",
       "    <tr>\n",
       "      <th>...</th>\n",
       "      <td>...</td>\n",
       "      <td>...</td>\n",
       "    </tr>\n",
       "    <tr>\n",
       "      <th>504</th>\n",
       "      <td>4</td>\n",
       "      <td>Hydro_daily</td>\n",
       "    </tr>\n",
       "    <tr>\n",
       "      <th>505</th>\n",
       "      <td>4</td>\n",
       "      <td>Hydro_daily</td>\n",
       "    </tr>\n",
       "    <tr>\n",
       "      <th>506</th>\n",
       "      <td>9</td>\n",
       "      <td>Hydro_daily</td>\n",
       "    </tr>\n",
       "    <tr>\n",
       "      <th>507</th>\n",
       "      <td>9</td>\n",
       "      <td>Hydro_daily</td>\n",
       "    </tr>\n",
       "    <tr>\n",
       "      <th>508</th>\n",
       "      <td>3</td>\n",
       "      <td>Hydro_daily</td>\n",
       "    </tr>\n",
       "  </tbody>\n",
       "</table>\n",
       "<p>266 rows × 2 columns</p>\n",
       "</div>"
      ],
      "text/plain": [
       "     effective_capacity_in_mw     gen_type\n",
       "243                         8  Hydro_daily\n",
       "244                         8  Hydro_daily\n",
       "245                         8  Hydro_daily\n",
       "246                        93  Hydro_daily\n",
       "247                        93  Hydro_daily\n",
       "..                        ...          ...\n",
       "504                         4  Hydro_daily\n",
       "505                         4  Hydro_daily\n",
       "506                         9  Hydro_daily\n",
       "507                         9  Hydro_daily\n",
       "508                         3  Hydro_daily\n",
       "\n",
       "[266 rows x 2 columns]"
      ]
     },
     "execution_count": 14,
     "metadata": {},
     "output_type": "execute_result"
    }
   ],
   "source": [
    "df_gens_bc[['effective_capacity_in_mw','gen_type']]"
   ]
  },
  {
   "cell_type": "code",
   "execution_count": null,
   "metadata": {},
   "outputs": [],
   "source": []
  }
 ],
 "metadata": {
  "kernelspec": {
   "display_name": "Python 3.8.13 ('pypsa')",
   "language": "python",
   "name": "python3"
  },
  "language_info": {
   "codemirror_mode": {
    "name": "ipython",
    "version": 3
   },
   "file_extension": ".py",
   "mimetype": "text/x-python",
   "name": "python",
   "nbconvert_exporter": "python",
   "pygments_lexer": "ipython3",
   "version": "3.8.13"
  },
  "orig_nbformat": 4,
  "vscode": {
   "interpreter": {
    "hash": "ea52cced35c77daeb96cd6b5ef20fc9ffe90b4d385d86dc1838d5d4232b92718"
   }
  }
 },
 "nbformat": 4,
 "nbformat_minor": 2
}
